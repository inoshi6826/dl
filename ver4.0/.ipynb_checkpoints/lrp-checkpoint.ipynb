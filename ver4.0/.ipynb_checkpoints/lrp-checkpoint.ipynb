{
 "cells": [
  {
   "cell_type": "code",
   "execution_count": null,
   "id": "d98b4e37",
   "metadata": {},
   "outputs": [],
   "source": [
    "import os\n",
    "import csv\n",
    "import pandas as pd\n",
    "import numpy as np\n",
    "from sklearn.preprocessing import StandardScaler\n",
    "from sklearn.model_selection import train_test_split\n",
    "import torch\n",
    "import matplotlib.pyplot as plt\n",
    "from torch.utils.data import DataLoader\n",
    "from torch.utils.data import TensorDataset\n",
    "from torch.autograd import Variable"
   ]
  },
  {
   "cell_type": "code",
   "execution_count": null,
   "id": "0d9fdf01",
   "metadata": {},
   "outputs": [],
   "source": [
    "for year in range(2022, 2023):\n",
    "  dir = '/content/drive/MyDrive/datasets/finance/exchange_rate/histdata/new_1h/'\n",
    "  file_name = f'DAT_MT_USDJPY_1H_{year}.csv'\n",
    "  path = dir + file_name\n",
    "\n",
    "  df = pd.read_csv(path, index_col=0, parse_dates=True, usecols=lambda column: column!='Unnamed: 0' and column!='flag')\n",
    "  df_flg = pd.read_csv(path, index_col=0, parse_dates=True, usecols=['datetime', 'flag'])\n",
    "  x_data = torch.tensor(np.array(df), dtype=torch.float32)\n",
    "  y_data = torch.tensor(np.array(df_flg), dtype=torch.float32)\n",
    "  x_train, x_test, y_train, y_test = train_test_split(x_data, y_data, test_size=0.1)\n",
    "  print(x_train, x_test, y_train, y_test)\n",
    "\n",
    "  train = TensorDataset(x_train, y_train)\n",
    "  print(train[0])\n",
    "  train_loader = DataLoader(train, batch_size=10, shuffle=True)"
   ]
  },
  {
   "cell_type": "code",
   "execution_count": null,
   "id": "9f5b6818",
   "metadata": {},
   "outputs": [],
   "source": [
    "class LogisticRegressionModel(torch.nn.Module):\n",
    "    def __init__(self, input_dim, output_dim):\n",
    "        super(LogisticRegressionModel, self).__init__()\n",
    "        self.linear = torch.nn.Linear(input_dim, output_dim)\n",
    "\n",
    "    def forward(self, x):\n",
    "        x = torch.sigmoid(self.linear(x))\n",
    "        return x\n",
    "\n",
    "input_dim = 8\n",
    "output_dim = 1\n",
    "model = LogisticRegressionModel(input_dim, output_dim)\n",
    "\n",
    "criterion = torch.nn.BCELoss()\n",
    "\n",
    "optimizer = torch.optim.SGD(model.parameters(), lr=0.01)"
   ]
  },
  {
   "cell_type": "code",
   "execution_count": null,
   "id": "39df2cc6",
   "metadata": {},
   "outputs": [],
   "source": [
    "loss_history = []\n",
    "for epoch in range(100):\n",
    "    total_loss = 0\n",
    "    for x_train, y_train in train_loader:\n",
    "        x_train = Variable(x_train)\n",
    "        y_train = Variable(y_train)\n",
    "        optimizer.zero_grad()\n",
    "        y_pred = model(x_train)\n",
    "        loss = criterion(y_pred, y_train)\n",
    "        loss.backward()\n",
    "        optimizer.step()\n",
    "        total_loss += loss.item()\n",
    "    loss_history.append(total_loss)\n",
    "    if (epoch +1) % 10 == 0:\n",
    "        print(epoch + 1, total_loss)"
   ]
  },
  {
   "cell_type": "code",
   "execution_count": null,
   "id": "b761e258",
   "metadata": {},
   "outputs": [],
   "source": [
    "plt.plot(loss_history)"
   ]
  }
 ],
 "metadata": {
  "kernelspec": {
   "display_name": "Python 3 (ipykernel)",
   "language": "python",
   "name": "python3"
  },
  "language_info": {
   "codemirror_mode": {
    "name": "ipython",
    "version": 3
   },
   "file_extension": ".py",
   "mimetype": "text/x-python",
   "name": "python",
   "nbconvert_exporter": "python",
   "pygments_lexer": "ipython3",
   "version": "3.10.10"
  }
 },
 "nbformat": 4,
 "nbformat_minor": 5
}
